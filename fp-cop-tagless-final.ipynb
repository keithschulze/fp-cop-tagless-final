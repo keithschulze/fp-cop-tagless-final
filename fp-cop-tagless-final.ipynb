{
 "cells": [
  {
   "cell_type": "code",
   "execution_count": null,
   "metadata": {
    "slideshow": {
     "slide_type": "skip"
    }
   },
   "outputs": [],
   "source": [
    "import $plugin.$ivy.`org.spire-math::kind-projector:0.9.8`\n",
    "import $ivy.`org.typelevel::cats-core:1.4.0`, cats._, cats.implicits._, cats.data.{EitherK, NonEmptyVector}\n",
    "import $ivy.`org.typelevel::cats-free:1.4.0`\n",
    "import $ivy.`org.typelevel::cats-effect:1.0.0`, cats.effect.{IO}"
   ]
  },
  {
   "cell_type": "markdown",
   "metadata": {
    "slideshow": {
     "slide_type": "slide"
    }
   },
   "source": [
    "# eDSLs in Scala using the Tagless Final Encoding\n",
    "\n",
    "Keith Schulze, Tranquility Crew"
   ]
  },
  {
   "cell_type": "markdown",
   "metadata": {
    "slideshow": {
     "slide_type": "slide"
    }
   },
   "source": [
    "# Domain Specific Languages (DSL)\n",
    "\n",
    "- Small computer languages focused on a specific application domain or system. \n",
    "- Typically can't write entire applications in a DSL.\n",
    "- Examples:\n",
    "    - SQL\n",
    "    - GLSL\n",
    "    - HTML\n",
    "    - CSS"
   ]
  },
  {
   "cell_type": "markdown",
   "metadata": {
    "slideshow": {
     "slide_type": "slide"
    }
   },
   "source": [
    "\n",
    "# Embedded Domain Specific Languages (eDSL)\n",
    "\n",
    "- Small programs embedded in a host language that compile to statements/expressions in the host language.\n",
    "- Separate definition and interpretation/execution of a program\n",
    "\n",
    "\n",
    "## Why build an eDSL?\n",
    "\n",
    "- Separate of concerns\n",
    "- Potential to optimise computations\n",
    "- Can make testing easier\n",
    "- Purely functional API over imperative code "
   ]
  },
  {
   "cell_type": "markdown",
   "metadata": {
    "slideshow": {
     "slide_type": "slide"
    }
   },
   "source": [
    "# eDSLs in Scala\n",
    "\n",
    "Example: Hutton's Razor - Adding integers"
   ]
  },
  {
   "cell_type": "code",
   "execution_count": null,
   "metadata": {
    "slideshow": {
     "slide_type": "fragment"
    }
   },
   "outputs": [],
   "source": [
    "// define an algebra for our mini language\n",
    "sealed trait AddIntAlg\n",
    "case class LitInt(value: Int) extends AddIntAlg\n",
    "case class Add(a: AddIntAlg, b: AddIntAlg) extends AddIntAlg"
   ]
  },
  {
   "cell_type": "code",
   "execution_count": null,
   "metadata": {
    "slideshow": {
     "slide_type": "fragment"
    }
   },
   "outputs": [],
   "source": [
    "// smart constructors\n",
    "def int(i: Int): AddIntAlg = LitInt(i)\n",
    "def add(a: AddIntAlg, b: AddIntAlg): AddIntAlg = Add(a, b)"
   ]
  },
  {
   "cell_type": "code",
   "execution_count": null,
   "metadata": {
    "slideshow": {
     "slide_type": "fragment"
    }
   },
   "outputs": [],
   "source": [
    "// build a program using our algebra\n",
    "val program = add(int(1), int(10))"
   ]
  },
  {
   "cell_type": "code",
   "execution_count": null,
   "metadata": {
    "slideshow": {
     "slide_type": "fragment"
    }
   },
   "outputs": [],
   "source": [
    "// interpreter for our algebra\n",
    "def interpret(alg: AddIntAlg): Int = alg match {\n",
    "    case LitInt(i) => i\n",
    "    case Add(a, b) => interpret(a) + interpret(b)\n",
    "}"
   ]
  },
  {
   "cell_type": "code",
   "execution_count": 6,
   "metadata": {
    "slideshow": {
     "slide_type": "fragment"
    }
   },
   "outputs": [
    {
     "data": {
      "text/plain": [
       "\u001b[36mres5\u001b[39m: \u001b[32mInt\u001b[39m = \u001b[32m11\u001b[39m"
      ]
     },
     "execution_count": 6,
     "metadata": {},
     "output_type": "execute_result"
    }
   ],
   "source": [
    "interpret(program)"
   ]
  },
  {
   "cell_type": "markdown",
   "metadata": {
    "slideshow": {
     "slide_type": "subslide"
    }
   },
   "source": [
    "# Combining Algebras for a DSL\n",
    "What happens if we want a DSL to add integers and concatenate strings?"
   ]
  },
  {
   "cell_type": "code",
   "execution_count": null,
   "metadata": {
    "slideshow": {
     "slide_type": "fragment"
    }
   },
   "outputs": [],
   "source": [
    "sealed trait IntStringAlg\n",
    "case class LitInt(value: Int) extends IntStringAlg\n",
    "case class Add(a: IntStringAlg, b: IntStringAlg) extends IntStringAlg // Oops!\n",
    "case class LitString(value: String) extends IntStringAlg\n",
    "case class StringConcat(a: IntStringAlg, b: IntStringAlg) extends IntStringAlg // Oh oh!"
   ]
  },
  {
   "cell_type": "markdown",
   "metadata": {
    "slideshow": {
     "slide_type": "fragment"
    }
   },
   "source": [
    "Yikes! We're starting to encounter some limitations:\n",
    "- Forced to modify our existing DSL or create a new DSL with both operations.\n",
    "- Lack requisite type information to interpret our DSL correctly"
   ]
  },
  {
   "cell_type": "markdown",
   "metadata": {
    "slideshow": {
     "slide_type": "subslide"
    }
   },
   "source": [
    "# GADTs to the rescue?"
   ]
  },
  {
   "cell_type": "code",
   "execution_count": null,
   "metadata": {
    "slideshow": {
     "slide_type": "subslide"
    }
   },
   "outputs": [],
   "source": [
    "sealed trait IntStringAlg[A]\n",
    "\n",
    "case class LitInt(value: Int) extends IntStringAlg[Int]\n",
    "case class Add(a: IntStringAlg[Int], b: IntStringAlg[Int]) extends IntStringAlg[Int]\n",
    "case class LitString(value: String) extends IntStringAlg[String]\n",
    "case class StringConcat(a: IntStringAlg[String], b: IntStringAlg[String])\n",
    "    extends IntStringAlg[String]\n",
    "\n",
    "def int(i: Int): IntStringAlg[Int] = \n",
    "    LitInt(i)\n",
    "def add(a: IntStringAlg[Int], b: IntStringAlg[Int]): IntStringAlg[Int] = \n",
    "    Add(a, b)\n",
    "def str(s: String): IntStringAlg[String] = \n",
    "    LitString(s)\n",
    "def concat(a: IntStringAlg[String], b: IntStringAlg[String]): IntStringAlg[String] = \n",
    "    StringConcat(a, b)\n",
    "\n",
    "def interpret[A](alg: IntStringAlg[A]): A = alg match {\n",
    "    case LitInt(v) => v\n",
    "    case LitString(s) => s\n",
    "    case Add(a, b) => interpret(a) + interpret(b)\n",
    "    case StringConcat(a, b) => interpret(a) + interpret(b)\n",
    "}"
   ]
  },
  {
   "cell_type": "code",
   "execution_count": 8,
   "metadata": {
    "slideshow": {
     "slide_type": "fragment"
    }
   },
   "outputs": [
    {
     "data": {
      "text/plain": [
       "\u001b[36mres7_0\u001b[39m: \u001b[32mInt\u001b[39m = \u001b[32m5\u001b[39m\n",
       "\u001b[36mres7_1\u001b[39m: \u001b[32mString\u001b[39m = \u001b[32m\"hello world!\"\u001b[39m"
      ]
     },
     "execution_count": 8,
     "metadata": {},
     "output_type": "execute_result"
    }
   ],
   "source": [
    "interpret(add(int(1), int(4)))\n",
    "interpret(concat(str(\"hello \"), str(\"world!\")))"
   ]
  },
  {
   "cell_type": "markdown",
   "metadata": {
    "slideshow": {
     "slide_type": "subslide"
    }
   },
   "source": [
    "# GADTs to the rescue?\n",
    "\n",
    "- Required to have a single algebra that describes all the operations in our DSL.\n",
    "- GADTs have [bugs](https://gist.github.com/pchiusano/1369239) in Scala.\n",
    "\n",
    "> Friends don't let friends use GADTs in Scala\n",
    ">\n",
    ">\n",
    "> -- <cite>John Degoes</cite>"
   ]
  },
  {
   "cell_type": "markdown",
   "metadata": {
    "slideshow": {
     "slide_type": "slide"
    }
   },
   "source": [
    "# Free Monad/Applicative DSLs\n",
    "\n",
    "[Typelevel `cats` implementation of Free Monad](https://typelevel.org/cats/datatypes/freemonad.html)\n",
    "\n",
    "Implement AddInteger and ConcatString DSLs with Free Monads and then combine them."
   ]
  },
  {
   "cell_type": "code",
   "execution_count": null,
   "metadata": {
    "slideshow": {
     "slide_type": "subslide"
    }
   },
   "outputs": [],
   "source": [
    "import cats.{Id, InjectK, ~>}\n",
    "import cats.free.Free"
   ]
  },
  {
   "cell_type": "code",
   "execution_count": null,
   "metadata": {
    "scrolled": true,
    "slideshow": {
     "slide_type": "fragment"
    }
   },
   "outputs": [],
   "source": [
    "// define algebra\n",
    "sealed trait AddIntAlg[A]\n",
    "case class LitInt(value: Int) extends AddIntAlg[Int]\n",
    "case class Add(a: Int, b: Int) extends AddIntAlg[Int]"
   ]
  },
  {
   "cell_type": "code",
   "execution_count": null,
   "metadata": {
    "slideshow": {
     "slide_type": "fragment"
    }
   },
   "outputs": [],
   "source": [
    "// smart constructor that lift/inject into free\n",
    "class AddInteger[F[_]](implicit I: InjectK[AddIntAlg, F]) {\n",
    "    def int(v: Int): Free[F, Int] = \n",
    "        Free.inject[AddIntAlg, F](LitInt(v))\n",
    "    def add(a: Int, b: Int): Free[F, Int] = \n",
    "        Free.inject[AddIntAlg, F](Add(a, b))\n",
    "}\n",
    "\n",
    "object AddInteger {\n",
    "    implicit def addInteger[F[_]](\n",
    "        implicit I: InjectK[AddIntAlg, F]\n",
    "    ): AddInteger[F] = new AddInteger[F]\n",
    "}"
   ]
  },
  {
   "cell_type": "code",
   "execution_count": null,
   "metadata": {
    "slideshow": {
     "slide_type": "subslide"
    }
   },
   "outputs": [],
   "source": [
    "// define algebra\n",
    "sealed trait ConcatStringAlg[A]\n",
    "case class LitString(value: String) extends ConcatStringAlg[String]\n",
    "case class Concat(a: String, b: String) extends ConcatStringAlg[String]\n",
    "\n",
    "// smart constructor that lift/inject into free\n",
    "class ConcatString[F[_]](implicit I: InjectK[ConcatStringAlg, F]) {\n",
    "    def str(v: String): Free[F, String] = \n",
    "        Free.inject[ConcatStringAlg, F](LitString(v))\n",
    "    def concat(a: String, b: String): Free[F, String] = \n",
    "        Free.inject[ConcatStringAlg, F](Concat(a, b))\n",
    "}\n",
    "\n",
    "object ConcatString {\n",
    "    implicit def concatString[F[_]](\n",
    "        implicit I: InjectK[ConcatStringAlg, F]\n",
    "    ): ConcatString[F] = new ConcatString[F]\n",
    "}"
   ]
  },
  {
   "cell_type": "code",
   "execution_count": null,
   "metadata": {
    "scrolled": true,
    "slideshow": {
     "slide_type": "subslide"
    }
   },
   "outputs": [],
   "source": [
    "// define combined algebra\n",
    "type IntStringAlg[A] = EitherK[AddIntAlg, ConcatStringAlg, A]\n",
    "\n",
    "//define our program using Free monad DSL\n",
    "def program(\n",
    "    implicit \n",
    "    I: AddInteger[IntStringAlg], \n",
    "    S: ConcatString[IntStringAlg]\n",
    "): Free[IntStringAlg, Tuple2[Int, String]] = for {\n",
    "    a <- I.int(1)\n",
    "    b <- I.int(4)\n",
    "    c <- I.int(1000)\n",
    "    d <- I.add(a, b)\n",
    "    e <- I.add(c, d)\n",
    "    x <- S.str(\"hello \")\n",
    "    y <- S.str(\"world!\")\n",
    "    z <- S.concat(x, y)\n",
    "} yield (e, z)"
   ]
  },
  {
   "cell_type": "code",
   "execution_count": null,
   "metadata": {
    "slideshow": {
     "slide_type": "subslide"
    }
   },
   "outputs": [],
   "source": [
    "// define interpreters\n",
    "object AddIntInterpreter extends (AddIntAlg ~> Id) {\n",
    "  def apply[A](i: AddIntAlg[A]) = i match {\n",
    "    case LitInt(i) => i\n",
    "    case Add(a, b) => a + b\n",
    "  }\n",
    "}\n",
    "\n",
    "object ConcatStringInterpreter extends (ConcatStringAlg ~> Id) {\n",
    "  def apply[A](fa: ConcatStringAlg[A]) = fa match {\n",
    "    case LitString(s) => s\n",
    "    case Concat(a, b) => a + b\n",
    "  }\n",
    "}\n",
    "\n",
    "// define combined interpreter\n",
    "val interpreter: IntStringAlg ~> Id =  AddIntInterpreter or ConcatStringInterpreter"
   ]
  },
  {
   "cell_type": "markdown",
   "metadata": {
    "slideshow": {
     "slide_type": "subslide"
    }
   },
   "source": [
    "We now have the 3 element to run our program: Algebras, Program and Interpreters"
   ]
  },
  {
   "cell_type": "code",
   "execution_count": 15,
   "metadata": {
    "slideshow": {
     "slide_type": "fragment"
    }
   },
   "outputs": [
    {
     "data": {
      "text/plain": [
       "\u001b[32mimport \u001b[39m\u001b[36mAddInteger._, ConcatString._\n",
       "\n",
       "//run program\n",
       "\u001b[39m\n",
       "\u001b[36mres14_1\u001b[39m: (\u001b[32mInt\u001b[39m, \u001b[32mString\u001b[39m) = (\u001b[32m1005\u001b[39m, \u001b[32m\"hello world!\"\u001b[39m)"
      ]
     },
     "execution_count": 15,
     "metadata": {},
     "output_type": "execute_result"
    }
   ],
   "source": [
    "import AddInteger._, ConcatString._\n",
    "\n",
    "//run program\n",
    "program.foldMap(interpreter)"
   ]
  },
  {
   "cell_type": "markdown",
   "metadata": {
    "slideshow": {
     "slide_type": "slide"
    }
   },
   "source": [
    "## Tagless Final\n",
    "\n",
    "> Carette, Jacques, Oleg Kiselyov, and Chung-chieh Shan. 2009. Finally tagless, partially evaluated: Tagless staged interpreters for simpler typed languages. Journal of Functional Programming 19(5):509–543.\n",
    "\n",
    "Oleg has produced really nice teaching material that covers [Tagless Final style](http://okmij.org/ftp/tagless-final/) in OCaml and Haskell.\n",
    "\n",
    "Familiar DSL structure:\n",
    "- Algebra\n",
    "- Program\n",
    "- Interpreter"
   ]
  },
  {
   "cell_type": "markdown",
   "metadata": {
    "slideshow": {
     "slide_type": "subslide"
    }
   },
   "source": [
    "<blockquote class=\"twitter-tweet\" data-lang=\"en\"><p lang=\"en\" dir=\"ltr\">Final-tagless lets you build type-safe DSLs with type classes. Instances of the type class are interpreters for the DSL.<br><br>Free Monad lets you build type-safe DSLs with a data structure. Functions on the data structure (called natural transformations) are interpreters for the DSL. <a href=\"https://t.co/Pwu8Ixq2di\">https://t.co/Pwu8Ixq2di</a></p>&mdash; John Ⓐ De Goes (@jdegoes) <a href=\"https://twitter.com/jdegoes/status/1059056721643991040?ref_src=twsrc%5Etfw\">November 4, 2018</a></blockquote> <script async src=\"https://platform.twitter.com/widgets.js\" charset=\"utf-8\"></script> "
   ]
  },
  {
   "cell_type": "code",
   "execution_count": null,
   "metadata": {
    "slideshow": {
     "slide_type": "subslide"
    }
   },
   "outputs": [],
   "source": [
    "// Define Algebra\n",
    "trait AddIntAlg[F[_]] {\n",
    "    def int(i: Int): F[Int]\n",
    "    def add(a: Int, b: Int): F[Int]\n",
    "}"
   ]
  },
  {
   "cell_type": "code",
   "execution_count": null,
   "metadata": {
    "slideshow": {
     "slide_type": "fragment"
    }
   },
   "outputs": [],
   "source": [
    "// Define Program\n",
    "def program[F[_]: Monad](I: AddIntAlg[F]): F[Int] = for {\n",
    "    a <- I.int(1)\n",
    "    b <- I.int(4)\n",
    "    c <- I.int(1000)\n",
    "    d <- I.add(a, b)\n",
    "    e <- I.add(c, d)\n",
    "} yield e"
   ]
  },
  {
   "cell_type": "code",
   "execution_count": null,
   "metadata": {
    "slideshow": {
     "slide_type": "fragment"
    }
   },
   "outputs": [],
   "source": [
    "// Define Interpreter\n",
    "object AddIntInterpreterId extends AddIntAlg[Id] {\n",
    "    def int(i: Int): Id[Int] = i\n",
    "    def add(a: Int, b: Int): Id[Int] = a + b\n",
    "}"
   ]
  },
  {
   "cell_type": "code",
   "execution_count": 19,
   "metadata": {
    "slideshow": {
     "slide_type": "fragment"
    }
   },
   "outputs": [
    {
     "data": {
      "text/plain": [
       "\u001b[36mres18\u001b[39m: \u001b[32mId\u001b[39m[\u001b[32mInt\u001b[39m] = \u001b[32m1005\u001b[39m"
      ]
     },
     "execution_count": 19,
     "metadata": {},
     "output_type": "execute_result"
    }
   ],
   "source": [
    "program(AddIntInterpreterId)"
   ]
  },
  {
   "cell_type": "markdown",
   "metadata": {
    "slideshow": {
     "slide_type": "subslide"
    }
   },
   "source": [
    "# Combining Tagless Final Algebras\n",
    "\n",
    "Let's combine AddInteger and ConcatString"
   ]
  },
  {
   "cell_type": "code",
   "execution_count": null,
   "metadata": {
    "slideshow": {
     "slide_type": "fragment"
    }
   },
   "outputs": [],
   "source": [
    "trait ConcatStringAlg[F[_]] {\n",
    "    def str(s: String): F[String]\n",
    "    def concat(a: String, b: String): F[String]\n",
    "}\n",
    "\n",
    "object ConcatStringInterpreterId extends ConcatStringAlg[Id] {\n",
    "    def str(s: String): Id[String] = s\n",
    "    def concat(a: String, b: String): Id[String] = a + b\n",
    "}"
   ]
  },
  {
   "cell_type": "code",
   "execution_count": null,
   "metadata": {
    "slideshow": {
     "slide_type": "subslide"
    }
   },
   "outputs": [],
   "source": [
    "def program[F[_]: Monad](\n",
    "    I: AddIntAlg[F], \n",
    "    S: ConcatStringAlg[F]\n",
    "): F[Tuple2[Int, String]] = for {\n",
    "    a <- I.int(1)\n",
    "    b <- I.int(4)\n",
    "    c <- I.int(1000)\n",
    "    d <- I.add(a, b)\n",
    "    e <- I.add(c, d)\n",
    "    x <- S.str(\"hello \")\n",
    "    y <- S.str(\"world!\")\n",
    "    z <- S.concat(x, y)\n",
    "} yield (e, z)"
   ]
  },
  {
   "cell_type": "code",
   "execution_count": 22,
   "metadata": {
    "slideshow": {
     "slide_type": "fragment"
    }
   },
   "outputs": [
    {
     "data": {
      "text/plain": [
       "\u001b[36mres21\u001b[39m: (\u001b[32mInt\u001b[39m, \u001b[32mString\u001b[39m) = (\u001b[32m1005\u001b[39m, \u001b[32m\"hello world!\"\u001b[39m)"
      ]
     },
     "execution_count": 22,
     "metadata": {},
     "output_type": "execute_result"
    }
   ],
   "source": [
    "program(AddIntInterpreterId, ConcatStringInterpreterId)"
   ]
  },
  {
   "cell_type": "markdown",
   "metadata": {
    "slideshow": {
     "slide_type": "subslide"
    }
   },
   "source": [
    "| Tagless Final DSL | Free Monad/Applicative DSL |\n",
    "| :---------------------------------------- | :--------------------------------------------------------------- |\n",
    "| Compiles to expressions in host language  | Compiles to data structure that represents the computation |\n",
    "| Abstracts over the effect type            | Stack-safe by default |\n",
    "| Vertically and horizontally composable    | Inspection of inner program structure allows for optimisation |\n",
    "| Concise encoding                          | |\n",
    "| Efficient                                 | |\n",
    "| Inspection and optimisation of call stack more challenging | |\n",
    "| Stack-safety is dependent on the Effect type | |"
   ]
  },
  {
   "cell_type": "markdown",
   "metadata": {
    "slideshow": {
     "slide_type": "slide"
    }
   },
   "source": [
    "# Tagless Final DSL Example: Banking Service"
   ]
  },
  {
   "cell_type": "code",
   "execution_count": null,
   "metadata": {
    "slideshow": {
     "slide_type": "skip"
    }
   },
   "outputs": [],
   "source": [
    "import scala.collection.mutable.Map\n",
    "import scala.concurrent.{Future, ExecutionContext}\n",
    "import scala.util.{Success, Failure}\n",
    "\n",
    "sealed trait BankingError extends Exception\n",
    "case class AccountError(message: String) extends BankingError\n",
    "case class WithdrawError(message: String) extends BankingError\n",
    "case class DepositError(message: String) extends BankingError\n",
    "case class TransferError(message: String) extends BankingError\n",
    "\n",
    "case class Amount(value: BigDecimal)\n",
    "object Amount {\n",
    "    def apply(amount: Double): Amount = Amount(BigDecimal(amount))\n",
    "}\n",
    "\n",
    "type AccountId = Int\n",
    "case class Account(id: AccountId, balance: Amount)\n",
    "\n",
    "\n",
    "case class From[A](value: A)\n",
    "case class To[A](value: A)\n",
    "type TransferResult = Either[BankingError, (From[Amount], To[Amount])]"
   ]
  },
  {
   "cell_type": "markdown",
   "metadata": {},
   "source": [
    "A typical BankingService you might encounter in Scala"
   ]
  },
  {
   "cell_type": "code",
   "execution_count": null,
   "metadata": {
    "slideshow": {
     "slide_type": "skip"
    }
   },
   "outputs": [],
   "source": [
    "trait BankingService {\n",
    "    def account(accId: AccountId): Future[Option[Account]]\n",
    "    def balance(acc: Account): Future[Amount]\n",
    "    def deposit(acc: Account, amount: Amount): Future[Either[BankingError, Amount]]\n",
    "    def withdraw(acc: Account, amount: Amount): Future[Either[BankingError, Amount]]\n",
    "    def transfer(from: From[Account], to: To[Account], amount: Amount): Future[TransferResult]\n",
    "}"
   ]
  },
  {
   "cell_type": "code",
   "execution_count": null,
   "metadata": {
    "slideshow": {
     "slide_type": "skip"
    }
   },
   "outputs": [],
   "source": [
    "class ATMService(bs: BankingService) {\n",
    "    def transferMoolla(fromAccId: AccountId, toAccId: AccountId, amount: Amount)(\n",
    "        implicit ec: ExecutionContext\n",
    "    ): Future[TransferResult] = {\n",
    "        bs.account(fromAccId).flatMap(from => {\n",
    "            bs.account(toAccId).flatMap(to => (from, to) match {\n",
    "                case (Some(acc1), Some(acc2)) => bs.transfer(From(acc1), To(acc2), amount)\n",
    "            })\n",
    "        })\n",
    "    }\n",
    "    \n",
    "}"
   ]
  },
  {
   "cell_type": "markdown",
   "metadata": {},
   "source": [
    "What might this look like if we create a Tagless Final DSL for the Banking service"
   ]
  },
  {
   "cell_type": "code",
   "execution_count": null,
   "metadata": {
    "slideshow": {
     "slide_type": "skip"
    }
   },
   "outputs": [],
   "source": [
    "trait Banking[F[_]] {\n",
    "    def account(accId: AccountId): F[Account]\n",
    "    def balance(acc: Account): F[Amount]\n",
    "    def deposit(acc: Account, amount: Amount): F[Amount]\n",
    "    def withdraw(acc: Account, amount: Amount): F[Amount]\n",
    "    def transfer(from: From[Account], to: To[Account], amount: Amount): F[TransferResult]\n",
    "}"
   ]
  },
  {
   "cell_type": "code",
   "execution_count": null,
   "metadata": {
    "slideshow": {
     "slide_type": "skip"
    }
   },
   "outputs": [],
   "source": [
    "class ATMService[F[_]: Monad](bs: Banking[F]) {\n",
    "    def transferMoolla(fromAccId: AccountId, toAccId: AccountId, amount: Amount): F[TransferResult] =\n",
    "        for {\n",
    "            fromAcc <- bs.account(fromAccId)\n",
    "            toAcc   <- bs.account(toAccId)\n",
    "            result  <- bs.transfer(From(fromAcc), To(toAcc), amount)\n",
    "        } yield result\n",
    "}"
   ]
  },
  {
   "cell_type": "code",
   "execution_count": null,
   "metadata": {
    "slideshow": {
     "slide_type": "skip"
    }
   },
   "outputs": [],
   "source": [
    "import scala.concurrent.ExecutionContext.Implicits.global\n",
    "\n",
    "object BankingInterp extends Banking[Future] {\n",
    "    val accs: Map[AccountId, Account] =\n",
    "        Map(\n",
    "            0 -> Account(1, Amount(0.0)),\n",
    "            1 -> Account(2, Amount(100000.0)),\n",
    "            2 -> Account(3, Amount(1.0))\n",
    "        )\n",
    "\n",
    "    def account(accId: AccountId): Future[Account] =\n",
    "        accs.get(accId) match {\n",
    "            case Some(acc) => Future.successful(acc)\n",
    "            case None => Future.failed(AccountError(\"Account does not exist\"))\n",
    "        }\n",
    "\n",
    "    def balance(acc: Account): Future[Amount] = Future.successful(acc.balance)\n",
    "    def deposit(acc: Account, amount: Amount): Future[Amount] =\n",
    "        if (amount.value >= 0) {\n",
    "            val newBalance = Amount(acc.balance.value + amount.value)\n",
    "            accs.update(acc.id, acc.copy(balance=newBalance))\n",
    "            Future.successful(newBalance)\n",
    "        } else {\n",
    "            Future.failed(DepositError(\"Cannot deposit negative amount.\"))\n",
    "        }\n",
    "\n",
    "    def withdraw(acc: Account, amount: Amount): Future[Amount] =\n",
    "        if (amount.value >= 0) {\n",
    "            val newBalance = Amount(acc.balance.value - amount.value)\n",
    "            accs.update(acc.id, acc.copy(balance=newBalance))\n",
    "            Future.successful(newBalance)\n",
    "        } else {\n",
    "            Future.failed(WithdrawError(\"Cannot withdraw a negative amount.\"))\n",
    "        }\n",
    "\n",
    "    def transfer(from: From[Account], to: To[Account], amount: Amount): Future[TransferResult] = for {\n",
    "        out1 <- withdraw(from.value, amount)\n",
    "        out2 <- deposit(to.value, amount)\n",
    "    } yield Right((From(out1), To(out2)))\n",
    "}"
   ]
  },
  {
   "cell_type": "code",
   "execution_count": 29,
   "metadata": {
    "slideshow": {
     "slide_type": "skip"
    }
   },
   "outputs": [
    {
     "ename": "",
     "evalue": "",
     "output_type": "error",
     "traceback": [
      "\u001b[31mjava.lang.NullPointerException\u001b[39m\n  ammonite.$sess.cmd26$Helper$ATMService.<init>(\u001b[32mcmd26.sc\u001b[39m:\u001b[32m1\u001b[39m)\n  ammonite.$sess.cmd28$Helper.<init>(\u001b[32mcmd28.sc\u001b[39m:\u001b[32m1\u001b[39m)\n  ammonite.$sess.cmd28$.<init>(\u001b[32mcmd28.sc\u001b[39m:\u001b[32m7\u001b[39m)\n  ammonite.$sess.cmd28$.<clinit>(\u001b[32mcmd28.sc\u001b[39m:\u001b[32m-1\u001b[39m)"
     ]
    }
   ],
   "source": [
    "val atm = new ATMService(BankingInterp)\n",
    "\n",
    "val tranferResult = atm.transferMoolla(0, 1, Amount(50000))"
   ]
  },
  {
   "cell_type": "markdown",
   "metadata": {},
   "source": [
    "Note this doesn't seem to work in Jupyter scala (Almond). Try running it using the Ammonite script (`banking.sc`)."
   ]
  },
  {
   "cell_type": "markdown",
   "metadata": {
    "slideshow": {
     "slide_type": "slide"
    }
   },
   "source": [
    "# Tagless Final DSL Example: Cell counting"
   ]
  },
  {
   "cell_type": "code",
   "execution_count": null,
   "metadata": {
    "slideshow": {
     "slide_type": "skip"
    }
   },
   "outputs": [],
   "source": [
    "interp.repositories() ++= Seq(coursier.maven.MavenRepository(\"http://maven.imagej.net/content/groups/public/\"))"
   ]
  },
  {
   "cell_type": "code",
   "execution_count": null,
   "metadata": {
    "slideshow": {
     "slide_type": "skip"
    }
   },
   "outputs": [],
   "source": [
    "import $ivy.`net.imglib2:imglib2:5.5.0`\n",
    "import $ivy.`io.scif:scifio:0.37.2`"
   ]
  },
  {
   "cell_type": "code",
   "execution_count": null,
   "metadata": {
    "scrolled": false,
    "slideshow": {
     "slide_type": "skip"
    }
   },
   "outputs": [],
   "source": [
    "import $file.ImgUtils, ImgUtils._, previews._"
   ]
  },
  {
   "cell_type": "code",
   "execution_count": null,
   "metadata": {
    "slideshow": {
     "slide_type": "skip"
    }
   },
   "outputs": [],
   "source": [
    "val sourcePath = \"http://imagej.net/images\"\n",
    "//sourcePath = System.getProperty(\"user.home\") + \"/data\"\n",
    "val cells = ij.scifio().datasetIO().open(sourcePath + \"/FluorescentCells.jpg\")"
   ]
  },
  {
   "cell_type": "code",
   "execution_count": 34,
   "metadata": {
    "slideshow": {
     "slide_type": "skip"
    }
   },
   "outputs": [
    {
     "data": {
      "text/html": [
       "<img src=\"data:image/jpg;base64,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\"></img>"
      ]
     },
     "metadata": {},
     "output_type": "display_data"
    }
   ],
   "source": [
    "cells.preview"
   ]
  },
  {
   "cell_type": "code",
   "execution_count": null,
   "metadata": {
    "slideshow": {
     "slide_type": "skip"
    }
   },
   "outputs": [],
   "source": [
    "import scala.collection.JavaConverters._\n",
    "import scala.util.control.NonFatal\n",
    "\n",
    "import io.scif.img.ImgOpener\n",
    "\n",
    "import net.imglib2.algorithm.labeling.{ConnectedComponents}\n",
    "import net.imglib2.img.{Img, ImgView}\n",
    "import net.imglib2.img.array.ArrayImgFactory\n",
    "import net.imglib2.roi.labeling.{ImgLabeling, LabelRegions}\n",
    "import net.imglib2.`type`.NativeType\n",
    "import net.imglib2.`type`.numeric.{RealType, IntegerType}\n",
    "import net.imglib2.`type`.numeric.integer.{IntType, UnsignedByteType}\n",
    "import net.imglib2.`type`.logic.BitType\n",
    "import net.imglib2.view.Views"
   ]
  },
  {
   "cell_type": "code",
   "execution_count": null,
   "metadata": {
    "slideshow": {
     "slide_type": "skip"
    }
   },
   "outputs": [],
   "source": [
    "// Algebra\n",
    "trait ImgProcessor[F[_], A] {\n",
    "    def readImg(path: String): F[Img[A]]\n",
    "    def extractChannel(img: Img[A], channel: Int): F[Img[A]]\n",
    "    def smooth(img: Img[A], sigma: Double): F[Img[A]]\n",
    "    def threshold(img: Img[A], value: A): F[Img[BitType]]\n",
    "    def label(mask: Img[BitType]): F[ImgLabeling[Int, BitType]]\n",
    "    def filter(label: ImgLabeling[Int, BitType], minSize: Double): F[ImgLabeling[Int, BitType]]\n",
    "    def extractSizes(label: ImgLabeling[Int, BitType]): F[List[Double]]\n",
    "}"
   ]
  },
  {
   "cell_type": "code",
   "execution_count": null,
   "metadata": {
    "slideshow": {
     "slide_type": "skip"
    }
   },
   "outputs": [],
   "source": [
    "// Program\n",
    "def program[F[_]: Monad](\n",
    "    ip: ImgProcessor[F, UnsignedByteType]\n",
    "): F[Tuple2[Int, List[Double]]] = for {\n",
    "    img    <- ip.readImg(\"http://imagej.net/images/FluorescentCells.jpg\")\n",
    "    n      <- ip.extractChannel(img, 2)\n",
    "    s      <- ip.smooth(n, 2.0)\n",
    "    m      <- ip.threshold(s, new UnsignedByteType(60))\n",
    "    l      <- ip.label(m)\n",
    "    filtL  <- ip.filter(l, 100.0)\n",
    "    result <- ip.extractSizes(filtL)\n",
    "} yield (result.size, result)"
   ]
  },
  {
   "cell_type": "code",
   "execution_count": null,
   "metadata": {
    "slideshow": {
     "slide_type": "skip"
    }
   },
   "outputs": [],
   "source": [
    "trait ImgProcessorInterp extends ImgProcessor[IO, UnsignedByteType] {\n",
    "    def readImg(path: String): IO[Img[UnsignedByteType]] = {\n",
    "        val io = new ImgOpener()\n",
    "        try {\n",
    "            IO(io.openImg(path.toString, new UnsignedByteType))\n",
    "        } catch {\n",
    "            case NonFatal(e) => IO.raiseError(e)\n",
    "        }\n",
    "            \n",
    "    }\n",
    "    \n",
    "    def extractChannel(img: Img[UnsignedByteType], channel: Int): IO[Img[UnsignedByteType]] = \n",
    "        IO {\n",
    "            ImgView.wrap(Views.hyperSlice(img, 2, channel), img.factory())\n",
    "        }\n",
    "    \n",
    "    def smooth(img: Img[UnsignedByteType], sigma: Double): IO[Img[UnsignedByteType]] = \n",
    "        IO {\n",
    "            ImgView.wrap(ij.op().filter().gauss(img, sigma), img.factory())\n",
    "        }\n",
    "    \n",
    "    def threshold(img: Img[UnsignedByteType], value: UnsignedByteType): IO[Img[BitType]] = \n",
    "        IO {\n",
    "        val ii = ij.op().threshold().apply(img, value)\n",
    "        val out = ij.op().create().img(ii)\n",
    "        ij.op().copy().iterableInterval(out, ii)\n",
    "        out\n",
    "    }\n",
    "    \n",
    "    def label(mask: Img[BitType]): IO[ImgLabeling[Int, BitType]] = IO {\n",
    "        ij.op().labeling().cca(mask, ConnectedComponents.StructuringElement.EIGHT_CONNECTED)\n",
    "    }\n",
    "    \n",
    "    def filter(label: ImgLabeling[Int, BitType], minSize: Double): IO[ImgLabeling[Int, BitType]] = IO {\n",
    "        val regions = new LabelRegions(label).iterator().asScala.toList\n",
    "        val filteredImg = new ArrayImgFactory[BitType]().create(label, new BitType)\n",
    "        regions.filter( r => ij.op().geom().size(r).get() >= minSize)\n",
    "            .foreach(r => {\n",
    "                val rCursor = r.localizingCursor\n",
    "                val rRA = r.randomAccess\n",
    "                val fiRA = filteredImg.randomAccess\n",
    "                \n",
    "                while(rCursor.hasNext()) {\n",
    "                    rCursor.fwd()\n",
    "                    rRA.setPosition(rCursor)\n",
    "                    fiRA.setPosition(rCursor)\n",
    "                    fiRA.get().set(rRA.get().get())\n",
    "                }\n",
    "            })\n",
    "        ij.op().labeling().cca(filteredImg, ConnectedComponents.StructuringElement.EIGHT_CONNECTED)\n",
    "    }\n",
    "    \n",
    "    def extractSizes(label: ImgLabeling[Int, BitType]): IO[List[Double]] = IO {\n",
    "        val regions = new LabelRegions(label).iterator().asScala.toList\n",
    "        regions.map( r => ij.op().geom().size(r).get())\n",
    "    }\n",
    "}\n",
    "\n",
    "object IPInterp extends ImgProcessorInterp"
   ]
  },
  {
   "cell_type": "code",
   "execution_count": 39,
   "metadata": {
    "slideshow": {
     "slide_type": "skip"
    }
   },
   "outputs": [
    {
     "name": "stdout",
     "output_type": "stream",
     "text": [
      "[INFO] Populating metadata\n",
      "[INFO] Populating metadata\n"
     ]
    },
    {
     "data": {
      "text/plain": [
       "\u001b[36mres38\u001b[39m: (\u001b[32mInt\u001b[39m, \u001b[32mList\u001b[39m[\u001b[32mDouble\u001b[39m]) = (\n",
       "  \u001b[32m6\u001b[39m,\n",
       "  \u001b[33mList\u001b[39m(\u001b[32m719.0\u001b[39m, \u001b[32m987.0\u001b[39m, \u001b[32m823.0\u001b[39m, \u001b[32m543.0\u001b[39m, \u001b[32m2348.0\u001b[39m, \u001b[32m533.0\u001b[39m)\n",
       ")"
      ]
     },
     "execution_count": 39,
     "metadata": {},
     "output_type": "execute_result"
    }
   ],
   "source": [
    "program(IPInterp).unsafeRunSync"
   ]
  },
  {
   "cell_type": "markdown",
   "metadata": {},
   "source": [
    "We can see it's outputting something, but we can't verify it correct. It would be nice to see the intermediate images. Let's create a Debugging interpreter that displays a preview for DSL methods that output an image i.e., `readImg`, `extractChannel`, `smooth`, `threshold`, `label`, `filter`."
   ]
  },
  {
   "cell_type": "code",
   "execution_count": 40,
   "metadata": {
    "slideshow": {
     "slide_type": "skip"
    }
   },
   "outputs": [
    {
     "data": {
      "text/plain": [
       "defined \u001b[32mobject\u001b[39m \u001b[36mDebugIPInterp\u001b[39m"
      ]
     },
     "execution_count": 40,
     "metadata": {},
     "output_type": "execute_result"
    }
   ],
   "source": [
    "object DebugIPInterp extends ImgProcessorInterp {\n",
    "    override def readImg(path: String): IO[Img[UnsignedByteType]] =\n",
    "        super.readImg(path).map(i => {\n",
    "            Preview[Img[UnsignedByteType]].preview(i)\n",
    "            i\n",
    "        })\n",
    "    override def extractChannel(img: Img[UnsignedByteType], channel: Int): IO[Img[UnsignedByteType]] =\n",
    "        super.extractChannel(img, channel).map(i => {\n",
    "            Preview[Img[UnsignedByteType]].preview(i)\n",
    "            i\n",
    "        })\n",
    "    override def smooth(img: Img[UnsignedByteType], sigma: Double): IO[Img[UnsignedByteType]] =\n",
    "        super.smooth(img, sigma).map(i => {\n",
    "            Preview[Img[UnsignedByteType]].preview(i)\n",
    "            i\n",
    "        })\n",
    "    override def threshold(img: Img[UnsignedByteType], value: UnsignedByteType): IO[Img[BitType]] =\n",
    "        super.threshold(img, value).map(m => {\n",
    "            Preview[Img[BitType]].preview(m)\n",
    "            m\n",
    "        })\n",
    "    override def label(mask: Img[BitType]): IO[ImgLabeling[Int, BitType]] =\n",
    "        super.label(mask).map(l => {\n",
    "            val img = l.getIndexImg\n",
    "            Preview[Img[BitType]].preview(ImgView.wrap(img, new ArrayImgFactory(new BitType)))\n",
    "            l\n",
    "        })\n",
    "    override def filter(label: ImgLabeling[Int, BitType], minSize: Double): IO[ImgLabeling[Int, BitType]] =\n",
    "        super.filter(label, minSize).map(l => {\n",
    "            val img = l.getIndexImg\n",
    "            Preview[Img[BitType]].preview(ImgView.wrap(img, new ArrayImgFactory(new BitType)))\n",
    "            l\n",
    "        })\n",
    "}"
   ]
  },
  {
   "cell_type": "code",
   "execution_count": 41,
   "metadata": {
    "slideshow": {
     "slide_type": "skip"
    }
   },
   "outputs": [
    {
     "name": "stdout",
     "output_type": "stream",
     "text": [
      "[INFO] Populating metadata\n",
      "[INFO] Populating metadata\n"
     ]
    },
    {
     "data": {
      "text/html": [
       "<img src=\"data:image/jpg;base64,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\"></img>"
      ]
     },
     "metadata": {},
     "output_type": "display_data"
    },
    {
     "data": {
      "text/html": [
       "<img src=\"data:image/jpg;base64,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\"></img>"
      ]
     },
     "metadata": {},
     "output_type": "display_data"
    },
    {
     "data": {
      "text/html": [
       "<img src=\"data:image/jpg;base64,/9j/4AAQSkZJRgABAgAAAQABAAD/2wBDAAgGBgcGBQgHBwcJCQgKDBQNDAsLDBkSEw8UHRofHh0aHBwgJC4nICIsIxwcKDcpLDAxNDQ0Hyc5PTgyPC4zNDL/wAALCAIAAgABAREA/8QAHwAAAQUBAQEBAQEAAAAAAAAAAAECAwQFBgcICQoL/8QAtRAAAgEDAwIEAwUFBAQAAAF9AQIDAAQRBRIhMUEGE1FhByJxFDKBkaEII0KxwRVS0fAkM2JyggkKFhcYGRolJicoKSo0NTY3ODk6Q0RFRkdISUpTVFVWV1hZWmNkZWZnaGlqc3R1dnd4eXqDhIWGh4iJipKTlJWWl5iZmqKjpKWmp6ipqrKztLW2t7i5usLDxMXGx8jJytLT1NXW19jZ2uHi4+Tl5ufo6erx8vP09fb3+Pn6/9oACAEBAAA/APAaSlpOtAopaSlpKKWjmkooopKKcKSikooopcUlFFKKKd2pppKKKKKKKMUUUUUtJRRRTqQ0lFFFLSUUUUUU4ikpaKO9JS44pKUUGkpaM0UUlFFLRRQRTaAKdijvQabRRSilxS5pKbRRRRRSiikoopaSiiiindqbRRRRS0lLSUUUU6kooope9FFFGKXFJiikzRRRRRS0UUYooo70UhoAoopaKKKSjFFJRS0lFFLRRSUUU4Cg02iiiiloooxSYoopxopKWijrRRS4paTNFFJijiko70tFFJmlopaTFJS0UA0HmjFGKKM0lFFBpKKWkooopaKSilFLRTcUYpaMUUUtFLmkpcU2iloxRRSgHNPVKXZk1ILc7c1EykGmlaSijHFJijFJ3paKKTFKOKKM0lFGaO1JS5pRS9aDTaKKBS0lJThQaSg0UUUUlOFLikpKKXFJRRS0UlLRSUtJTgKcFOacE5p4THapVjJ7U/yscmmtLtG2oC4NNLA03ANJiikNBptFLRS0Gm5pKKKKKKKWlFLikooxRilxSUlLQaSlpKSlopKfSdKKXNJQaSlxSYpy0hooANGMUUlKKkAzUyKMUvTtUsY3HpWja2EsxGxCat3GjXCRFjG35VzV0jxyEMMVBmkpc04NR9KUCgim4pKKKDSZpKKKKKKKKKUdaeaXHFKFzS7OaQrigDNIy0zGKKM0UUdaSkopwFBNNNFLRRSilpKXNG004IaeqUNHUZFMpwqRalTNSCtPSrL7VcIgHU17v4N8CQSWqSSoDkeldZqHgWyktGVYlzj0rwbx74S/syZ3RMCvNHXaxFNozS05TzT8ZpMUhFIaSim0UUUUUUUUUUoqTinqKkC5oK4GaiLFjip4oCRnFOkhx2qu8eKixikopKBRSU4U7pTTSYpaKSlopwGakCA09YhUiwZ7VMlqzdBTmtWUfdqB4iKrMpFRYpRT161OvSpFrovDkqR30Zbpmvp7wdewy6dGFIziurIDrXmfxJ0NLqxkcLzivl/VbU2146EdDWfRTgCalSI96kKACmsvFRkUyiim0UUUUUUUUUUop9TRjIqdEya0LbTJLrAVSc1uWfgeebDFTWofBjxR/drD1PQpbYE7eK5yeIqxFVHGDURpKKWijOaKM0ZopKWikpwqVBUqrzVlIs1r6bpbXMgXHFdlZ+Fl8sErT7jwsmwnbXK6roTQElV4rm54NhwRWaaKkU1MrYqRTmrtpMYZAwPSvWfBHjD7MyRSPgfWvbtK1u3vIFIkGSPWoPEUMV1YOCQcivlnxzpn2fU5Co4zXGGMjtSBCT0qzFEB1qUgCoieaazZqNsUzNJSZpaSkoooooooopRT6sQ4NaFpF5koFel+GdGBRGKV6Tp+mR+UBsH5VJcaUhU/KK4jxNYxpA/A6V4/fgLcOB61ly9agNJS0Cim0UUooxS0lFKKegzUyCrUSVegjBIFdt4atVJBxXo9hZBoxkVYn04MhAFczq+jho2+WvMNb0028544zXG0tOU1IpqQNip0fFXrS8eFwysRiu10Xxxc2ICmQ4HvXSTfEt5bUoW7V5zr2rf2lOznnNc+0YPameWB2paQiomqI1GxptFFFJmiiiiiiiiilp1TwmtrS8CdSfWvZvCrRtboOOld7aPGgHIqO/vIo42ORXlHjPWkVHVWHNeSXNz5kzH1NVXbNRGiiikNJTgM0Yo6GikpaKKepqdDVqJqvQtgg12/hi7UOqmvUNOlHljnitATxkHpWRqTxlTwK8w8UonmHGOteV0tKDTwacOalBxUqyYqTztvekN0x4zTfNY9aXfxUium33qIsM8VE7VGTxUZNRmkpaKSkooooooooopwpe1TwjmtWzbY6mvS/C2qCONQWrrJvECQRZL/AK1yms+MCVZUf9a861fU3vHO5utYeznNRPUdLSUpptFOBooopMUUtFOWplqxGcGrkcg4rY0y9a2lVga9C0rxCGiClq2E1ZcZ31najrKKh+YVwGt6h9pkODXAiiinA04Nil3Z704NiguTSg4p6vQzZpoY0m7mgtTWaoiabRRRRSUUUUUUUUUU8UnerEB5rQibGK1rLU3tvumrNxrU06YLGsa4uHcnJrNlyx61CzbaiJyaSkopabRRTs0Z5oozQaSlFOFSLUyHFWEarcUhGOa0Le+ki6MavrrcyrjcarT6lLMOWNZdxKSetc7Sg0UZooFLuNG6nbqA5pd9G+k3Zo3U0mkpKWiikNJRRRRRRRRRTx0pB1qeLrV5OlShsU1ptoqFpQeaqyyelVyc02loopKKKKKKUUUtHWgUuaepqQNxT1erMcnvVhZaf5hoMhxVaVzWRSUUtLSUUCloopaBRSGgc0UUUhpKKKKKKKKKKBTs8UVPCOauqcCnbuKgl5qu74GKgJzTaWigUUlFFGKXFJRS4ooopc0Zp4alDU9ZcGp1l5qYS8UpkzUcjcVnU2ilFLmkpaTNLSZpaKKXNJQKKSlptFFFFFFFFFFLS0CrEXFWg3FNZuKgdjUDHNR0tFFFFJRRS07tTaKdTaWkpaKKXNJTg5FSrKalEgNI71SooFPxxSUgpabRRRRS0uaKKKKSkooooooooopaKKUVMnWps0heoWNRGkooopKWiikpaWkopc0UUlFFLSUtIKcKcGoLZqKiinUlLmg02iiiiilopaKDSGkooooooooop3akopRUycCn5qNjTCaYaM0UUlFLRSUUUtFFLSUUUUUUUtGKKKTNJRS0ZpKKWiiikopRRS0UE0CkNJRRS0pFNoooop1FFKOtSCjOKaxpKYaKKKSlFLRSYpaSkpaKKWikooFFFLSZoxS0hpKKKKKdSGkooooopwooJpKKWkoopaM5pCKSiiilpRRSjrT84ppNNzRRSUUlGKdSd6WiiigUUUuKSjtRSGiilpKKKWkpKKKKKU0lFFFFFKBTjTTRS4pKUGiikNFLig02iiiilpacvFDU3NJS0lJS0lKKMUtJRRTqSjNFJmiiiilxRSUuKSinCkptFFFLQaSiiiiinCg0lPTHehuvFNIooFJRRS0lJRRRRS0tKKCeaSjFFFNopaM0ZoooooopaSiiiiijNLmkoopaKKbRRRTulNooooooHWn0DmjHNLtOacFoK03GKSkopKKKSlFLSUYp2KBS03FFFIaSiilxRRRRilpKXFFBpKKKKKKKKWjFJS0lJRRRRS0lFFFFFKKfTlWpQopQmT0p/k4qN0IphWoyOabS0mKKMUuKSiiil70tJ1pQKGFJSUmKMUUUtGKO9FFHeijpQeTSd6UmkoooopaTvS0UU2iiiiloNJRRRRRThUqrk1MqVPHAZDgCtO30eWXkKaml0aWMZKms2e2KcEVTdMVXYc03FJRxSE0maTNLSUtKKcVwM00milBpCc0maKKKKXFLjFIaSlzmmmiilopKWkopaMUlLSUUUUUlFFAp/amUUUUUUuKljSrSRg1aihziug0jTPNYMRxXZ2enxxoPlFF5aRsh+UVxesWyq5AFc9NFtJzVJxzULUyikJpKKWilpc0pPFMNFOFGKSlFBpKWig5pKDSClpKMUUtFFJRRS0lFFFFLTaKdTacBQabRRRRingU8LzU6AVOBVy1PzgGu90FIzCOldAoC9DUNzJGqHNcNrE6tO2K524O41nyDmq7UylptFFOpaSkp3akopaSkpQaKcKCabmjNJRRRS4oopKKWkpaSiiiiilpKSinUnendqaaSiingUd6XcKA+DThKakFwRU0V3tYc102j6+IMKW4rqItfhZM7xWXqeuqQQrVytzdmRyc1UeXdVVyc1C3NMNHWkIoApSKTFLRilopKTFFFKBmnbcUGm0tNNFFFLS0maSlooozSUUUUooNJS9qSkooopwpTTKKeBxRgUZpM0hNJRRmlzT1kZTwasxX0q8bjUzXDSDJNQs5phY0wtTCabQKOpooooooopKUc0YpQKUcU7OaTFIaSm0ooooozSUUppKWkooooooopRSUUlFAp/QU0nNJThTsimk02iiiiiigU7NPDkUpfNNLUdaSnDGKYetFLSUc0lLRRQBTgtLtpdtJtpdtGKYRSAUpFJSUtGKSloxS0YoI4ptFFFLRikoo70YopKKlVMmhxioqKM0UUUUUUUUUUUtFLRmkzRTqSigUUY4pQKMUoXNOAp4HFGOaULS7aNopCtRlaMCkJpppKKcDTe9FGaKXNJmkFLikoozRQaKMUUlFFTBsCoyxNNooooooooooooopaKKSilpaKKXFGKKft4pQMClAoxTgKdj0pVX1p2OaUpxmoiDmmkUBM010wKioooAopKKWkoopaKKSiiilzSUUlFLmkopaKSiiiiiiiijFFFLRSUtKBR3pxoApdtLspQtPC0EUoWl20oApwXFKaTvSk0xjUfNKDimuaYcYplAozRRSUUUUUtFGKKSiiindqbSUUUUuKU02ijFFFFFFFOAp2KYRSUtL2oxRilANPC5pSuKcopcUHpQKUUuRRnmnU4Yo70UU00080BeKawphGaYRzSYpO9FFFJRRTqQ0lFLRRSUtJRmkooopaXpSZooopKKXFJRTxRmlBpCaSilApwXNOC0uKUcU4YoowaXFGMUlLtoAGaeMUuMUvWjbQaaVNJil6UhXNNEfNMddtRHmmkUlLSUCiiloooxSUd6Wkoo70UlFFFLR2oopcUlFFLRSUoNLmlpCKMc08LmnhMUvFITzSUoFLTsiilpOtGKcKMZpQMU6nKKdRijFJtppTNJjFFRSAGoSKYaSkooop1HFGaSjNJR3paSiiikoopaWkoopaSlpKKWjFLijFOApcU7FLnApN9IWpNwpd9Jupd9Jvp2+l30ganbqcDmnDNKASaeF5p5FAU1IqcUu00bKCnFRGM5pNtQupzURHNRsKZSUUtFFFFJRS0UUlFFAFIaKKWiloxRSUUUuKO9OwaSlxS4paUGgtimFsmkpKTvS0UZoo5ozUiCn4py8GpRzUqgVIq+1SJbs54Bq9BpFxJ0jP5Vei0CduqGr8XhiRhyppZfC7qOBWLeaVLak5BrOZMVEVxTWXIqu64qIrUTLzTSuKQ0CjNFFJRRiloozSUUUtNPWiilopaSlFJRS0UAc1LkbaZmlzSdaTNJmikFOpKKKKMUUUoFSotTBKUJzUm01MkZNXrS0aaQKBXe6H4WWSNXda7Oy0C3RMeWPyq9H4aSRuEA/Cprjw+ttFkKKxXtF3EFawNb0tHjJC151qFt5ErDFZrHmm5qNwKgdahIxTGptNooooopaSiiiiloppoop9JQKDRQaBS0lFKDRRmkzRmkpcUYpKKKWg0lFOUZqVVqVEqTaakSM1OF46VPEnIArqNDscsHIr0TSrqNFEZwK6i0mhABJFaKXsKdGFVb3Uo3XaSKw5WR3JUVl6ioaMjFeZ+IIws7VzbgVERTSvFROvFVmqI02kpaSiiiiilFJRR3opcUhpKKdRS0hoFKRSUvSkNAoFGaSiiiloNAFFHeigmkpQMmplWpAMVOo4qQAGpRUq1btlDSAV3ekQBbcHvitBA8bZFSjVJYjgsavQaozj79Sm7LHlqt20gPWq2qMqRMfavLNemElw2K55xmmYpGOBUDGoHFRNxTKMUYpMUUZoooopDRRSjrS000lFOxR3oPFFFLSGikpRRSUUUUUtJS0lLSUU7Apy9amUE1Mq1IBUiipFFPzjrVyzkAkBrvNIlDwqAa6CG1Drk1l39mwk+UU61tZMVfjtnByato4iGSawNf1hViZQ1eb3tz5srEmqecimEiomOaibioywxULcmm4pOhpc0lJRRSZoFLSUUUtFIaSin0nel60hopaSijFJ3ooooNFFFFFFL2pKWnAGpUWplXNTrHUioOtJuwcCnKxp2S3FTw5Wuh0jVDAwDHiu0sdZidR8wq891DIM5FRrcxoeopk+rQxL94Vg6h4jUKQjVx9/qL3LklqyJGyaZk0hFRtwKhamcCmMKYabSUtFFFJikp3akooopaQmkop+KKWkNJSmkoooxRRSUUUUYpcUYNFGKXbTgtSBakWpUHenl+2aVWI70Dk5p3frU0fWpg4pwl29DVmHUJYjwxq6uvTKPvGhvEExH3jVOXVZperGqctwzdTVZpCahZuaM0E8VA71FnJpCQKazVGTSGiloozRmkooopaBzS0lNoop+aTrS0Gig0YpKWkNJS0UvakpQKXbThgUHmkwKXAxSCnilB5pc808SEClDd6duJp27FAfBqzHKAtQyzkHiiOZianDnFJ5nvSF6A+aXOaic80zrSEgUwtTSOaYy4qMjvUZpM0vWjFJilopKU0lFApx6U3NJmjNFFFOpelJ3opetFHSkooxRRRRS5pc0bqQtzSg0m7mjNGcU4GlBpacKXcKPMxR5hJpwepFf1qTKOQK2LPTYpIC5YZxWfcKIpCtVy4zSB+adv8ASjfxSHk0xj6VESaTdTS/NIXppNNNNIoBxRQaSiiiiiloptFFFFFPpCaUUZFGaSlozSUZozRRRRRSUveijFFFLRmnbqTdSbqXOaUNTg1G/PFKrFTnNXoL+SNcBuKZLP5rZNRHnvScijfijdzmneZmoy/NIWpham5pC1ITSZ5pc0lJS0CiikopRRTaKKKKKKUmkpc0lOozRRikooopc80UlAo70UuaWkoooopKWlBxSilFLkUhpVNSUAmjJoPFMLUZ4pM5o3U1jzTc0lLS0lJRRS0UlFFFFJRRRRRRRRRTgKKKB1ozRQKDRRSUUUUUtJRSgUUUlLQKXFKaTNIaBTxS7sUb6N5pN2aTdS7uKbRmkPNJRRS0UlLQaKSg0UUopDSUUUUUUUUUop3am0UtFLikxRRSZoooxRRRRRSiikooFLRRRmilzxRmig0maKDRQKdimmikooooooooFLSUooNNooooooopaKUCikoFKaKUU7r2pCtG2kxSdKSloAJp4jJFAjOeaNmKMCjApOKTFJSUooJooxSUtFGaSiilpKKeORSEUlJR0ooFLSUGiiiijpSUUUUUUUUUtLSUUUUpooBqQYIpwxT9tJ5ee1NMJ9KTyj6UhjI7U+OCRz8qk1aFnOo/1Z/Ko5IZF6oRVZwRUdFFGeaWjFIRRSUtJ0ooopaSiilpKdnFNzmijvS0lGaWkoooopaaaKKKKKKKKKWilxRS0h60lGaKdmnKanRhmrCAGpliBqVbUN2qRdO8xwMV23hzwpHOFLpmu5i8C27xf6oflWBrngaOONikf6V5hrOjtZzMMVhtERUew5pCMUhpKWlNNoopaSlpDSik70tLSGkopaKKTNFLikpcUUUlFFJRRRRRRRRRT8UlGaKKSiiloNGacHxViOersMw9avQyCtC1dQ4Jr0Hw3q8MW1WxXoVtr1sIgMis/VNWt5Y25GK8g8WSRTztsxXHPCOeKrtCB2qtLHg1ARigCjvSikIoxSUUUUUUUtAoo7UlFFOpMUdKKXIozSZpKKWkpKKKKKKKKKKdRSUoNFJRilpKKKKXNSpKQetXIrnHersN2cjmti01IxEYatiPX5VXhz+dQ3PiGdkI3mueubt53JY1XOMc1WlYZxVaQVWcUykPWlpCaKSijFFFFFFApe9HakpaSlzxSg0maQ0lFFLmiikoooooooooooooopc0tFBpKWkooop6tirEU2DzVgXe08GrCX/HWnm7DDrUfmgml35qGTBOaruRUZUHmoWGKbRSUUUtFJRRS0lKKKKSnUlJSZoooooooooooooooooooope1JinbaQjFJS0oopcc0UmKSlzSUA0uTShyKkEpp6zEHrUwm4pjS1Azk00OelK3IplJRRRRRRRRRRS0UuabnmloNNoooooooooooooopaSiiiilopRjNTBlAqJuTTO9OptLS0Zpc8UgFIRS4pKKKWlBpwajk000lLmkNJSUtBoooxS0lFFLQelNooooooooooooooooooooopaSilpKKWlpMUtNopaSlpRxQetGaSiiiiinhsCmmkFLml7UlNNApaKXrSUtFJRSmm0UUUUUUUUUUUUUUUUU6m0UUU6m0tLRRSUopaQ02iiinUUUYpMc0tBFFJRRS0UlFLRSUtFJRRS0lFFJRRRRRRRRRRRTqbTqKKKKbTqKKKbRTqKKKTFFFFFJRTqKb3pwoopaMUhFIKWkooope1FJRRikoopaKKSiiiiiiiinUU2inUUUlLRRRRSUtFFFFFFFGKSloxQRSY4pKKWjvS0UUlKDSk5ptFFFKKKKTvS0UUU2iiiiiilpKKKKKKdRRRRRRRSUtFFFFFFFFJS0YpaSkpRTwKdtzSFKjI5pMUUtFGaKKKKKWm0UUtJRS0lLRRTaKKKKKKKWkooop1FNop1FFFFFFFFFFFFJTgtGOaO1ApOtJS5qVOalxil2ZFRtHimFajIopKWiiiik70tFJS0dKSijNLRRRRRRRTaKKKKKdRRRRRRRRRRRRRRRRSUtFFf/9k=\"></img>"
      ]
     },
     "metadata": {},
     "output_type": "display_data"
    },
    {
     "data": {
      "text/html": [
       "<img src=\"data:image/jpg;base64,/9j/4AAQSkZJRgABAgAAAQABAAD/2wBDAAgGBgcGBQgHBwcJCQgKDBQNDAsLDBkSEw8UHRofHh0aHBwgJC4nICIsIxwcKDcpLDAxNDQ0Hyc5PTgyPC4zNDL/wAALCAIAAgABAREA/8QAHwAAAQUBAQEBAQEAAAAAAAAAAAECAwQFBgcICQoL/8QAtRAAAgEDAwIEAwUFBAQAAAF9AQIDAAQRBRIhMUEGE1FhByJxFDKBkaEII0KxwRVS0fAkM2JyggkKFhcYGRolJicoKSo0NTY3ODk6Q0RFRkdISUpTVFVWV1hZWmNkZWZnaGlqc3R1dnd4eXqDhIWGh4iJipKTlJWWl5iZmqKjpKWmp6ipqrKztLW2t7i5usLDxMXGx8jJytLT1NXW19jZ2uHi4+Tl5ufo6erx8vP09fb3+Pn6/9oACAEBAAA/APn+iiiiiiiiiiiiiiiiiiiiiiiiiiiiiiiiiiiiiiiiiiiiiiiiiiiiiiiiiiiiiiiiiiiiiiiiiiiiiiiiiiiiiiiiiiiiiiiiiiiiiiiiiiiiiiiiiiiiiiiiiiiiiiiiiiiiiiiiiiiiiiiiiiiiiiiiiiiiiiiiiiiiiiiiiiiiiiiiiiiiiiiiiiiiiiiiiiiiiiiiiiiiiiiiiiiiiiiiiiiiiiiiiiiiiiiiiiiiiiiiiiiiiiiiiiiiiiiiiiiiiiiiiiiiiiiiiiiiiiiiiiiiiiiiiiiiiiiiiiiiiiiiiiiiiiiiiiiiiiiiiiiiiiiiiiiiiiiiiiiiiiiiiiiiiiiiiiiiiiiiiiiiiiiiiiiiiiiiiiiiiiiiiiiiitjw94V13xXeG10PTJ72RfvlAAkeQSNznCrnacZIzjA5roL74P8Aj7T7OS6m8OTvGmMiCWOZzkgcIjFj17Djr0rh6KKKKKKKKKKKKKKKKKKKKKKKKKKKKKKKKKKKKKKKKKKKKKKKKKKKKKKKKKKKK6DwP4b/AOEu8aaXoZk8uO6l/euGwRGoLvtOD821WxkYzjPFfaelaVY6HpdvpmmW0dtZ26bIok6KP5kk5JJ5JJJyTVyvn/48/Dezt7OXxnpMPkyGVRqMKYCNuOBMOeGLFQQAd27dwQxPgFFFFFFFFFFFFFFFFFFFFFFFFFFFFFFFFFFFFFFFFFFFFFFFFFFFFFFFFFFFFeqfs+6lDY/E0W8qyF7+ylt4ioGAwKy5bnptjYcZ5I+o+q6Kr39jb6np1zYXkfmWt1E8MybiNyMCGGRyMgnpXwxrmjXnh7XL3SL9Nl1aStE+AQGx0ZcgEqRgg45BBrPoooooooooooooooooooooooorY8PeFdd8V3htdD0ye9kX75QAJHkEjc5wq52nGSM4wOa9c039mnUpbdm1TxJaW0+8hUtbZp1K4HJZihBznjHYc88dX/wzj4P/AOglrn/f+H/41Xmnjn4G614S0uTVbG8j1ewgQNcFITHLEOctsywKAAZIbIySRgE15XRRRRRRRRRRRRRRRRRRRXcfDL4d3HxB1ySIzfZ9Ms9r3sykbwGztRAf4m2tyRgYJOeFP0nonwn8EaHb+VD4ftLp2RFklv0FwzlR9758hScknaFB9OBixqXwx8EarbrBceGNNRFcODawi3bOCOWj2kjnpnHT0FeGfEj4HXHhXTpdZ0C5n1DTYuZ4ZVBmgQAZfK4DrncTgDaMcEAsPH6KKKKKsWF9caZqNtf2cnl3VrKk0L7QdrqQVODwcEDrX2X8PvHNj468NQ30EsYv4kVL+3A2mGXHOASTsJBKnJyOOoIHWUV8yftFaAun+MbHWoljVNUtysmGYs0sWFLEHgDY0QGP7p47nxuiiiiiiiiiiiiiiiiiiiiiiipIIJrq4it7eKSaeVwkccalmdicAADkknjFfa/gPwpD4M8HWGjIIzOib7qRMfvJm5c5wCRn5QSM7VUHpXSUVHPBDdW8tvcRRzQSoUkjkUMrqRggg8EEcYr4Q1azh07Wb6yt7uO8gt7iSKO5jxtmVWIDjBIwQM9T16mqdFFFFFFFFFFFFFFFFFFfY/wj8PW/h74a6SkDb5L+Jb+d8EbnlUEcEnGF2rxjO3OASa7iiivlT42/D5fCfiBdX02COPR9Sc7IoY2C20oA3J6ANyygEfxAABefK6KKKKK0NG1zVPD2opf6Rfz2V0uBvhfG4Ag7WHRlyBlTkHHIr6D8JftD6ReW8UHim2ksLwuwe5tYi9vtxlSRkuD/AA4AbnByAcDvP+FqeBv7H/tT/hJrH7P/AHNx87723/U48zr/ALPTnpzXzx8YfiJb+PNctotOh26ZpvmJbzOCHnL7dzkH7q/IMDGe567V83oooooooooooooooooooooooroPAn/JQ/DX/YVtf/Rq19v0UVy/xA8Y2/gfwlc6tL81w2YbOMoWEk5UlA2CMLwSeRwDjnAPxRRRRRRRRRRRRRRRRRRRRX2H8HNfXxB8MtKbdH59in2GZUVlCmMAIOepMflkkcZJ6dB3lFFeX/H61s7j4Xzy3Nx5U1tdwy2qbwvmyElCuD975HdsDn5c9Aa+UKKKKKKKKKKKKKKKKKKKKKKKKKKKKKKKKKKK+4/B2vr4p8HaVrStGXurdWl8tWVVlHyyKA3OA4Yd+nU9a3K5fxj8QPD/AIHs/N1a63XDbTHZQFWnkBJG4ISMLw3zEgcYznAPyh468dap481w39+fKt48ra2iNlLdD2HqxwMt3x2AAHL0UUUUUUUUUUUUUUUUUUV6J8IPiBD4E8SzDUPM/snUEWK5KKCYmU/JJjGSFywIHZicEgA/W8E8N1bxXFvLHNBKgeOSNgyupGQQRwQRzmpKK+dP2g/HNjqb2vhTTpY5zZXBnvZFGQkoUqsYbOCQGfcMcHaM5DAeF0UUUUUUUUUUUUUUUUUUUUUUUUUUUUUUUUUV2ngH4ma14AuJFsxHdafO6tPZTE7SQRlkI+45UYzyOmQcDHWeJ/2hPEGsWc1npFhBpEM0XltMsrSzoc8lH+ULkYH3SRyQQcY8jnnmuriW4uJZJp5XLySSMWZ2JySSeSSec1HRRRRRRRRRRRRRRRRRRRRRXYeEfid4p8F7YtNvvNsRn/QbsGSH+LoMgpyxb5SuTjOa9Isf2l7yOzjW/wDDEE90M75ILwxI3JxhSjEcY/iPrx0rj/EPxx8a6/Zi1S6g0uP+M6arRO/II+cszLjH8JGckHIrzeiiiiiiiiiiiiiiiiiiiiiiiiiiiiiiiiiiiiiiiiiiiiiiiiiiiiiiiiiiiiiiiiiiiiiiiiiiiiiiiiiiiiiiiiiiiiiiiiiiiiiiiiiiiiiiiiiiiiiiiiiiiiiiiiiiiiiiiiiiiiiiiiiiiiiiiiiiiiiiiiiiiiiiiiiiiiiiiiiiiiiiiiiiiiiiiiiiiiiiiiiiiiiiiiiiiiiiiiiiiiiiiiiiiiiiiiiiiiiiiiiiiiiiiiiiiiiiiiiiiiiiiiiiiiiiiiiiiiiiiiiiiiiiiiiiiiiiiiiiiiiiiiiiiiiiiiiiiiiiiiiiiiiiiiiiiiiiiiiiiiiiiiiiiiiiiiiiiiiiiiiiiiiiiiiiiiiiiiiiiiiiiiiiiiiiiiiiiiiiiiiiiiiiiiiiiiiiiiiiiiiiiiiiiiiiiiiiiiiiiiiiiiiiiiiiiiiiiiiiiiiiiiiiiiiiiiiiiiiiiiiiiiiiiiiiiiiiiiiiiiiiiiiiiiiiiiiiiiiiiiiiiiiiiiiiiiiiiiiiiiiiiiiiiiiiiiiiiiiiiiiiiiiiiiiiiiiiiiiiiiiiiiiiiiiiiiiiiiiiiiiiiiiiiiiiiiiiiiiiiiiiiiiiiiiiiiiiiiiiiiiiiiiiiiiiiiiiiiiiiiiiiiiiiiiiiiiiiiiiiiiiiiiiiiiiiiiiiiiiiiiiiiiiiiiiiiiiiiiiius8L/DbxX4vRJ9K0qT7Gzqv2yciKLBYqWBblwCpzsDEY6ZwK1Nb+C3jnRPPf+yPt9vDt/fWEgl35x92PiQ4Jwfl7E9Oa8/oooooooooooooooooooooooooooooooooooooooooooooooooooooooooooor2j4KfCy38R48T67F5mmwylLW0dDtuXXGXbIw0YPGBncwIPCkN9L0V82ftIaJDaeJdI1mLy1e/t3ilRYwpLREfOzfxErIq8jgIOfTxOiiiiiiiiiiiiiiiiiiiiiiiiiiiiiiiiiiiiiiiiiiiiiiiiiiiiiiiiiiivtv4fQQ23w58NpBFHEh0y3cqihQWaMMx47liST3JJrpKK+cP2kdZs7vXNF0iF991YRSy3GCCE83ZtU4OQ2EyQQOGU85rw+iiiiiiiiiiiiiiiiiiiiiiiiiiiiiiiiiiiiiiiiiiiiiiiiiiiiiiiiiiivZPhN8ZIfClgnh7xBHI2lo+bW5hjBa33Plg46smWZsjLDkYbIC+52PxH8FahZx3UPijSkjfOBPcrC4wSOUchh07jnr0rj/AB18dNC8OxG10B4Na1I5BMch8iH5cqxcDEnJHyqezAspHPzJquq32uapcanqdzJc3lw++WV+rH+QAGAAOAAAMAVTooooooooooooooooooooooooooooooooooooooooooooooooooooooooooooooooooooooooooooooooooooooooooooooooooooooooooooooooooooooooooooooooooooooooooooooooooooooooooooooooooooooooooooooooooooooooooooooooooooooooooooooooooooooooooooooooooooooooooooooooooooooooooooooooooooooooooooooooooooooooooooooooooooooooooooooooooooooooooooooooooooooooooooooooooooooooooooooooooooooooooooooooooooooooooooooooooooooooooooooooooooooooooooooooooooooooooooooooooooooooooooooooooooooooooooooooooooooooooooooooooooooooooooooooooooooooooooooooooooooooooooooooooooooooooooooooooooooooooooooooooooooooooooooooooooooooooooooooooooooooooooooooooooooooooooooooooooooooooooooooooooooooooooooortNN+EvjzVbdp7fw1doiuUIumS3bOAeFkZSRz1xjr6Guw0r9nLxNdPbtqep6bYwSJulCFppYjtzt24Ck5wDh8dSCe/X6b+zZoMVuy6prmpXM+8lXtVSBQuBwVYOSc55z3HHHJqX7Nmgy26rpeualbT7wWe6VJ1K4PAVQhBzjnPY8c8eUeOfhN4j8DpJeTpHe6SrhRe254XLELvQ8oTgeq5YDcSa4Oiiiiiiiiiiiiiiiiiiiiiiiiiiiiiiiiiiiiiiiiiiiiiiiiiiiiiiiitjwx4Y1TxdrkOkaRB5txJyzNwkSDq7nsoyPzAAJIB+s/BPww8OeCbeB7W0judURAJNRmXMjNhgSgORGCGIwvUYBLYzXaUUUVXv7G31PTrmwvI/MtbqJ4Zk3EbkYEMMjkZBPSvjT4jeDG8C+MbjSFkkltGRZ7SWTbueJs4zg9QwZegztzgAiuTooooooooooooooooooooooooooooooooooooooooooooooooooooooor6n+BfgVPDvhdNfuhnUtXiWQBlU+TBklArDJ+cFXPI/hBAK8+sUUUUUV8+ftMwQrceGrhYoxO6XKPIFG5lUxFQT1IBZiB23H1rwOiiiiiiiiiiiiiiiiiiiiiiiiiiiiiiiiiiiiiiiiiiiiiiiiiiiiiitDQtM/tvxDpmk+d5P267itvN27tm9wu7GRnGc4yK+64IIbW3it7eKOGCJAkccahVRQMAADgADjFSUUUUUV86ftLalDLrOgaWqyefb28tw7EDaVkZVUDnOcxNnjuOvbwuiiiiiiiiiiiiiiiiiiiiiiiiiiiiiiiiiiiiiiiiiiiiiiiiiiiiiitTw1qUOjeKtI1S4WRoLK9huJFjALFUcMQMkDOB6ivueCeG6t4ri3ljmglQPHJGwZXUjIII4II5zUlFFFFU9V1Wx0PS7jU9TuY7azt03yyv0UfzJJwABySQBkmviTxV4huPFfijUdcul2SXcpcJkHy0AwiZAGdqhRnHOMnmseiiiiiiiiiiiiiiiiiiiiiiiiiiiiiiiiiiiiiiiiiiiiiiiiiiiiiiivof4I/FO3ks7TwdrcvlXEf7vT7qRyRKCeIWJPDDOF7EALwQN3vFFFFc34r8eeHPBluX1nUY45ym6O0j+eeThsYQcgEqRuOFzwSK+YPiZ8TL7x/qgRBJbaLbuTa2hPJPTzJMcFyO3RQcDqS3B0UUUUUUUUUUUUUUUUUUUUUUUUUUUUUUUUUUUUUUUUUUUUUUUUUUUUUUUUV2Hh34o+MfDHlx2OtTy2qeWBa3Z86PYnRAGyUXHHyFeMc8DHoGmftKaxF5v9reH7G6zjy/skz2+3rnO7fnt0xjB654NT/aU1iXyv7J8P2NrjPmfa5nuN3TGNuzHfrnOR0xzxev8Axj8b+IHbdrEmnwbw6w6dmAKQuPvg7yDySCxGT7DHB0UUUUUUUUUUUUUUUUUUUUUUUUUUUUUUUUUUUUUUUUUUUUUUUUUUUUUUUUUUUUUUUUUUUUUUUUUUUUUUUUUUUUUUUUUUUUUUUUUUUUUUUUUUUUUUUUUUUUUUUUUV6J8PPhTN8QdG1O9t9btLSe0fy47ZkLs7FcgvggohPAbDZw3Hy8+d0UUUUUUUUUUUUUUUUUUUUUUUUUUUUUUUUUUUUUUUUUUUUUUUUUUUUUUUUUUUUUUUUUUUUUUUUUUUUUUUUUUUUUUUUUUUUUUUUUUUUUUUUUUUUUUUUUUUUUUUUUUUUUUUUUUUUUUUUUUUUUUUUUUUUUUUUUUUUUUUUUUUUUUUUUUUUUUUUUUUUUUUUUUUUUUUUUUUUUUUUUUUUUUUUUUUUUUUUUUUUUUUUUUUUUUUUUUUUUUUUUUUUUUUUUUUUUUUUUUUUUUUUUUUUUUUUUUUUUUUUUUUUUUUUUUUUUUUUUUUUUUUUUUUUUUUUUUUUUUUUUUUUUUUUUUUUUUUUUUUUUUUUUUUUUUUUUUUUUUUUUUUUUUUUUUUUUUUUUUUUUUUUUUUUUUUUUUUUUUUUUUUUUUUUUUUUUUUUUUUUUUUUUUUUVc0rSr7XNUt9M0y2kuby4fZFEnVj/IADJJPAAJOAK+p/A3wX8OeGtLjbWLG01fVnQ+fLcR+ZEucHaiNxgY+8RuOT0B2j0yuT8Q/DTwh4lt50vdEtI55naRru1jWGfzCD85dRljlicNkE4JBr5c+Inw/vPh9rkVjNcfbLW4iEtvdiExh+zKQcgMD1AJ4ZTxnFcfRRRRRRRRRRRRRRRRRRRRRRRRRRRRRRRRRRRRRRRRRRRRRRRRRRRRRRRRRRXefB7W9I0D4kWF5rPlpAySRR3MkhRbaRlwHOOCCMpzwN+4kba+w6KK8T/aTmsV8K6NBII/7Qe9LwEx5bylQiTDY4G5osjPPHXHHzZRRRRRRRRRRRRRRRRRRRRRRRRRRRRRRRRRRRRRRRRRRRRRRRRRRRRRRRRRRRXrHw/8AjjqnhSzttI1a2/tPSYcJGwbE8CZHCk8MqjdhTjqBuAAFexwfHH4fTW8Ur61JA7oGaKSzmLISPunahGR04JHoTXL+If2jdFtreeLw/pl3eXYdkjlugIoCMHEgwS7DO07SFJBPKmvBPE/ifVPF2uTavq8/m3EnCqvCRIOiIOyjJ/MkkkknHooooooooooooooooooooooooooooooooooooooooooooooooooooooooooooooooooooooooooooooooooooooooooooooooooooooooooooooooooooooooooooooooooooooooooooooooooooooooooooooooooooooooooooooooooooooooooooooooooooooooooooooooooooooooooooooooooooooooooooooooooooooooooooooooooooooooooooooooooooooooooooooooooooooooooooooooooooooooooooooooooooooooooooooooooooooooooooooooooooooooooooooooooooooooooooooooooooooooooooooooooooooooooooooooooooooooooooooooooooooooooooooooooooooooooooooooooooooooooooooooooooooooooooooooooooooooooooooooooooooooooooooooooooooooooooooooooooooooooooooooooooooooooooooooooooooooooooooooooooooooooooooooooooooooooor//Z\"></img>"
      ]
     },
     "metadata": {},
     "output_type": "display_data"
    },
    {
     "data": {
      "text/html": [
       "<img src=\"data:image/jpg;base64,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\"></img>"
      ]
     },
     "metadata": {},
     "output_type": "display_data"
    },
    {
     "data": {
      "text/html": [
       "<img src=\"data:image/jpg;base64,/9j/4AAQSkZJRgABAgAAAQABAAD/2wBDAAgGBgcGBQgHBwcJCQgKDBQNDAsLDBkSEw8UHRofHh0aHBwgJC4nICIsIxwcKDcpLDAxNDQ0Hyc5PTgyPC4zNDL/wAALCAIAAgABAREA/8QAHwAAAQUBAQEBAQEAAAAAAAAAAAECAwQFBgcICQoL/8QAtRAAAgEDAwIEAwUFBAQAAAF9AQIDAAQRBRIhMUEGE1FhByJxFDKBkaEII0KxwRVS0fAkM2JyggkKFhcYGRolJicoKSo0NTY3ODk6Q0RFRkdISUpTVFVWV1hZWmNkZWZnaGlqc3R1dnd4eXqDhIWGh4iJipKTlJWWl5iZmqKjpKWmp6ipqrKztLW2t7i5usLDxMXGx8jJytLT1NXW19jZ2uHi4+Tl5ufo6erx8vP09fb3+Pn6/9oACAEBAAA/APn+iiiiiiiiiiiiiiiiiiiiiiiiiiiiiiiiiiiiiiiiiiiiiiiiiiiiiiiiiiiiiiiiiiiiiiiiiiiiiiiiiiiiiiiiiiiiiiiiiiiiiiiiiiiiiiiiiiiiiiiiiiiiiiiiiiiiiiiiiiiiiiiiiiiiiiiiiiiiiiiiiiiiiiiiiiiiiiiiiiiiiiiiiiiiiiiiiiiiiiiiiiiiiiiiiiiiiiiiiiiiiiiiiiiiiiiiiiiiiiiiiiiiiiiiiiiiiiiiiiiiiiiiiiiiiiiiiiiiiiiiiiiiiiiiiiiiiiiiiiiiiiiiiiiiiiiiiiiiiiiiiiiiiiiiiiiiiiiiiiiiiiiiiiiiiiiiiiiiiiiiiiiiiiiiiiiiiiiiiiiiiiiiiiiiipIYJZ22xIWPfHQVK2n3aKWMJwPQgn9KrUUUUUUUUUUUUUUUUUUUUUUUUUUUUUUUUUUUUUUUUUUUUUUUUUUUUUUUUUUUUVLbQ/aLlIs4DHn6d66SONYkCIoVR0Ap1ZOqWahTcxjBz847fWsqiiiiiiiiiiiiiiiiiiiiiiiiiiiiiiiiiiiiiiiiiiiiiiiiiiiiiiiiiiir2kuFvcHPzqQP5/0rdopHUOjIwyrDBFcxLG0MrRuPmU4NMooooooooooooooooooooooooq5p2lX2qzGKxtpJmH3ivCr16k8DoetddbfDS5aMm61KKJ88CKMyDH1JX+Va3/CuNH/5+b7/AL7T/wCJrmdc8DXukWrXcEy3cCDMm1Crr1ydvOQOOc9+mBmuVooooooooooooooooooorT0XSH1a5K7tkMeDIw689APc4P8AniuxttC022TatpG5IALSjeTjvz0/DFOm0XTZ0CvZQgA5+Rdh/MYrmdY8MvYwtcWrtLCv3lYfMo9eOo6/T9a5+iiiiilVijq6nDKcg10dpdLdQhgRvH3h6Gp6KxdXi2XCyDHzjn6j/IrOooooooooooooooooooooooop0cbyyLHGjO7kKqqMkk9ABXtmg6Smi6PBZrtLqN0rD+Jz1OcDPoM84ArSopskaSxtHIiujgqysMgg9QRXg93ClvezwRzLMkcjIsq9HAOAw+vWoaKKKKKKKKKKKKKKKKKK9C0C0S00aAKcmVRKx9Sw/wAMD8K06KK4bxJpIsLsXEKgW8x4VQcI3cfj1H4+lYdFFFFFPjleF98blW9RWtb6vGwAnBVvVRx/jVr7da+Xv85cenf8utZGoXgupVCD5Ezg9zVOiiiiiiiiiiiiiiiiiiiiiiitDQf+Rh0z/r7i/wDQxXuFFFZfiDWY9D0iW7fmQ/JCu3IaQg4B9uMnnoPWvE6KKKKKKKKKKKKKKKKKKK9B8PXQu9FgORuiHlMACMY6fpitSiisTxUkb6IzO+1kkVkGcbj0x78En8K4WiiiiiiiiiiiiiiiiiiiiiiiiiiiiiiiiiivctG1Aapo9pegqTLGC+0EAOOGAz6EEVerL1nxBp+hw77uXMhxthjwZGB7gZ6cHk8ceteT67rt1r18bi4O2NciKEH5Yx/U+p7/AEwBl0UUUUUUUUUUUUUUUUUUVr+H9VXS7xvNz5EoCvgfdI6H8OfzrvVZXRXRgysMgg5BFLRXI+LNTimKWMLBvLfdIR2bGAM/ic/h71zFFFFFFFFFFFFFFFFFFFFFFFFFFFFFFFFFFFbWgeJr3w/Iwh2y28hBeFycH3HoccZ/MHArW1P4haheQvDaQR2aOm0uGLSA9yG4A446ZHr6cjJI8sjSSOzu5LMzHJJPUk02iiiiiiiiiiiiiiiiiiiiitCw1q+07Cwy7ov+eUnK9/y654xWxF4ykEYEtkrP3KybQfwwf51n3fibUrqMIHWAd/JBUn8ckj8Kx6KKKKKKKKKKKKKKKKKKKKKKKKKKKKKKKKKKKKKKKKKKKKKKKKKKKKKKKKKKKKKKKKKKKKKKKKKKKKKKKKKKKKKKKKKKKKKKKKKKKKKKKKKKKKKKKKKKKKKKKKKKKKKKKKKKKKKKKKKKKKKKKKKKKKKKKKKKKKKKKKKKKKKKKKKKKKKKKKKKKKKKKKKKKKKKKKKKKKKKKKKKKKKKKKKKKKKKKKKKKKKKKKKKKKKKKKKKKKKKKKKKKKKKKKKKKKKKKKKKKKKKKKKKKKKKKKKKKKKKKKKKKKKKKKKKKKKKKKKKKKKKKKKKKKKKKKKKKKKKKKKKKKKKKKKKKKKKKKKKKKKKKKKKKKKKKKKKKKKKKKKKKKKKKKKKKKKKKKKKKKKKKKKKKKKKKKKKKKKKKKKKKKKKKKKKKKKKKKKKKKKKKKKKKKKKKKKKKKKKKKKKKKKKKKKKKKKKKKKKKKKKKKKKKKKKKKKKKKKKKKKKKKKKKKKKKKKKKKKKKKKKKKKKKKKKKKKKKKKKKKKKKKKKKKKKKKKKKKKKKKKKKKKKKKKKKKKKKKKKKKKKKKKKKKKKKKKKKKKKKKKKKKKKKKKKKKKKKKKKKKKKKKKKKKKKKKKKKKKKKKKKKKKKKKKKKKKKKKKKKKKKKKKKKKKKKKKKKKKKKKKKKKKKKKKKKKKKKKKKKKKKKKKKKKKKKKKKKKKKKKKKKKKKKKKKKKKKKKKKK3dE8Ha74gVZbGxb7OWA+0SkJHgkgkE/eAwc7ckYq7qXw58Tab5rfYPtUUeP3lq4fdnHRfvnk/3ex7c1ytFFFFFFFFFFFFFFFFFFFFFFFFFFFFFFFFFFFFFFFFFFFFFFFFFFFFFFFFFFFFei/DjwRDq+Na1NN9nHIVht2U4mYdWOeCgPGB1IIPAIPstFeO/GDTY4NZsNRTaGuomjdVTBJQj5ie5IcD6KPw83ooooooooooooooooooooooooooooooooooooooooooooooooooooooooooor6S8KRRw+ENHWKNUU2cTEKMDJUEn6kkk+5rYorx/4w6jbz6np2nxtumtY3eXBBC79uB1yDhc4PYj1rzWiiiiiiiiiiiiiiiiiiiiiiiiiiiiiiiiiiiiiiiiiiiiiiiiiiiiiiiiiiivQvAfxDj0K1XSdVRjYq37maNcmLc2WDDuvJORkjkYORj0228YeHLu3WePW7FUbOBLMI24OOVbBH4isDxP8TdM0hDBpTRajeHIyj/uo/lyCWHDckcKexyQa8Xvr661K9mvLyZpriZtzyN1J/oOwA4A4qvRRRRRRRRRRRRRRRRRRRRRRRRRRRRRRRRRRRRRRRRRRRRRRRRRRRRRRRRRRRRRRRRRRRRRRRRRRRRRRRRRRRRRRRRRRRRRRRRRRRRRRRRRRRRRRRRRRRRRRRRRRRRRRRRRRRRRRRRRRRRRRRRRRRRRRRRRRRRRRRRRRRRRRRRRRRRRRRRRRRRRRRRRRRRRRRRRRRRRRRRRRRRRRRRRRRRRRRRRRRRRRRRRRRRRRRRRRRRRRRRRRRRRRRRRRRRRRRRRRRRRRRRRRRRRRRRRRRRRRRRRRRRRRRRRRRRRRRRRRRRRRRRRRRRRRRRRRRRRRRRRRRRRRRRRRRRRRRRRRRRRRRRRRRRRRRRRRRRRRRRRRRRRRRRRRRRRRRRRRRRRRRRRRRRRRRRRRRRRRRRRRRRRRRRRRRRRRRRRRRRRRRRRRRRRRRRRRRRRRRRRRRRRRRRRRRRRRRRRRRRRRRRRRRRRRRRRRRRRRRRRRRRRRRRRRRRRRRRRRRRRRRRRRRRRRRRRRRRRRRRRRRRRRRRRRRRRRRRRRRRRRRRRRRRRRRRRRRRRRRRRRRRRRRRRRRRRRRRRRRRRRRRRRRRRRRRRRRRRRRRRRRRRRRRRRRRRRRRRRRRRRRRRRRRRRRRRRRRRRRRRRRRRRRRRRRRRRRXV2Hw08ZajA00GgXKKrbSLgrA2cA/dkKkjnrjH5V1Gm/AnxBcPA2oahYWcLrukCFpZIzjONuApOeDhsdcE9+osPgJo0cDDUdYv7ibdkNbqkKhcDjDB+c55z+FF/8BNGkgUadrF/bzbslrhUmUrg8YUJznHOfwrzbxf8NNd8IJJdTIl3pqsALuDouSQu9Typ4HquWA3E1xtFFFFFFFFFFFFFFFFFFFFFFFFFFFFFFFFFFFFFFFFFFFFFFFFFFFFFFFFanh/w/qPifWItM0yHzJ35Zjwka93Y9lGf5AZJAr6W8JfD3QvCUEL29slxqKqA99KuXLYIJUHOwYYjC9sZJ611dFFFQXlpBqFjcWV0nmW9xG0UqZI3KwwRkcjg9q+VvHfhVvB/imfTA7yWzKJraR8bnjbPXHcEMvbO3OACK5qiiiiiiiiiiiiiiiiiiiiiiiiiiiiiiiiiiiiiiiiiiiiiiiiiiiiiiivoz4PeD00Pw6utXAzf6nGrgFVPlQ9VAIyfmGGPP90YBXn0miiiiivEfj/DEs+gTiNBM63CNIFG5lBjIBPcAs2B7n1rxiiiiiiiiiiiiiiiiiiiiiiiiiiiiiiiiiiiiiiiiiiiiiiiiiiiiiiirujaf/a2uafpvm+V9ruY4PM27tm9gucZGcZ6Zr7FhhitoI4II0ihjUIkaKFVVAwAAOgA7U+iiiiivC/j7fxSarounBX86CCSdmIG0rIwUAe+Y2z9RXj1FFFFFFFFFFFFFFFFFFFFFFFFFFFFFFFFFFFFFFFFFFFFFFFFFFFFFFaOgX8WleI9L1GdXaG1u4p3VACxVXDEDOOcCvsGGaK5gjngkSWGRQ6SIwZWUjIII6gjvT6KKKKq6lqVnpGnT6hqFwlvawLukkfoB/Uk8ADkkgCvkjxHrc/iTxFfavcDa9zJuCZB2KOFXIAzhQBnHOM1l0UUUUUUUUUUUUUUUUUUUUUUUUUUUUUUUUUUUUUUUUUUUUUUUUUUUUUUV7j8I/iLA9rbeFtWk8udP3djcO5IlGeImJ6MM4XsRheCBu9kooorB8SeMtC8KQF9VvkSYruS2T5pZODjCjoCVI3HC56kV89eP/H95411EKoe30mBibe2J5J6b3x1Yj8FBwO5PG0UUUUUUUUUUUUUUUUUUUUUUUUUUUUUUUUUUUUUUUUUUUUUUUUUUUUUUUUV1Gh/EPxT4f8ALSz1aaS3TYPs9yfNj2r0QBuUXHHykcfQY7XT/j5qkfmf2lolncZx5f2aVodvXOd2/Pb0x79jUPj5qknl/wBm6JZ2+M+Z9plabd0xjbsx39c+3flNa+KXi7WnO7VHsodwZYrH9yFIGPvD5yDycFiM/QY42iiiiiiiiiiiiiiiiiiiiiiiiiiiiiiiiiiiiiiiiiiiiiiiiiiiiiiiiiiiiiiiiiiiiiiiiiiiiiiiiiiiiiiiiiiiiiiiiiiiiiiiiiiiiiiiiiiiiiiiiiiiiiiiiiiiiiiiiiiiiiiiiiiiiiiiiiiiiiiiiiiiiiiiiiiiiiiiiiiiiiiiiiiiiiiiiiiiiiiiiiiiiiiiiiiiiiiiiiiiiiiiiiiiiiiiiiiiiiiiiiiiiiiiiiiiiiiiiiiiiiiiiiiiiiiiiiiiiiiiiiiiiiiiiiiiiiiiiiiiiiiiiiiiiiiiiiiiiiiiiiiiiiiiiiiiiiiiiiiiiiiiiiiiiiiiiiiiiiiiiiiiiiiiiiiiiiiiiiiiiiiiiiiiiiiiiiiiiiiiiiiiiiiiiiiiiiiiiiiiiiiiiiiiiiiiiiiiiiiiiiiiiiiiiiiiiiiiiiiiiiiiiiiiiiiiiiiiiiiiiiiiiiiiiiiiiiiiiiiiiiiiiiiiiiiiiiiiiiiiiiiiiiiiiiiiiiiiiiiiiiiiiiiiiiiiiirmlaVfa5qlvpmmW0lzeXD7Iok6sf5AAZJJ4ABJwBX1P4G+C/hzw1pcbaxY2mr6s6Hz5biPzIlzg7URuMDH3iNxyegO0emVyfiH4aeEPEtvOl7olpHPM7SNd2sawz+YQfnLqMscsThsgnBINfLnxE+H958PtcisZrj7Za3EQlt7sQmMP2ZSDkBgeoBPDKeM4rj6KKKKKKKKKKKKKKKKKKKKKKKKKKKKKKKKKKKKKKKKKKKKKKKKKKKKKKKKKK7z4Pa3pGgfEiwvNZ8tIGSSKO5kkKLbSMuA5xwQRlOeBv3EjbX2HRRXif7Sc1ivhXRoJBH/AGg96XgJjy3lKhEmGxwNzRZGeeOuOPmyiiiiiiiiiiiiiiiiiiiiiiiiiiiiiiiiiiiiiiiiiiiiiiiiiiiiiiiiiiivWPh/8cdU8KWdtpGrW39p6TDhI2DYngTI4UnhlUbsKcdQNwAAr2OD44/D6a3ilfWpIHdAzRSWcxZCR907UIyOnBI9Ca5fxD+0bottbzxeH9Mu7y7Dskct0BFARg4kGCXYZ2naQpIJ5U14J4n8T6p4u1ybV9Xn824k4VV4SJB0RB2UZP5kkkkk49FFFFFFFFFFFFFFFFFFFFFFFFFFFFFFFFFFFFFFFFFFFFFFFFFFFFFFFFFFFFFFFFFFFFFFFFFFFFFFFFFFFFFFFFFFFFFFFFFFFFFFFFFFFFFFFFFFFFFFFFFFFFFFFFFFFFFFFFFFFFFFFFFFFFFFFFFFFFFFFFFFFFFFFFFFFFFFFFFFFFFFFFFFFFFFFFFFFFFFFFFFFFFFFFFFFFFFFFFFFFFFFFFFFFFFFFFFFFFFFFFFFFFFFFFFFFFFFFFFFFFFFFFFFFFFFFFFFFFFFFFFFFFFFFFFFFFFFFFFFFFFFFFFFFFFFFFFFFFFFFFFFFFFFFFFFFFFFFFFFFFFFFFFFFFFFFFFFFFFFFFFFFFFFFFFFFFFFFFFFFFFFFFFFFFFFFFFFFFFFFFFFFFFFFFFFFFFFFFFFFFFFFFFFFFFFFFFFFFFFFFFFFFFFFFFFFFFFFFFFFFFFFFFFFFFFFFFFFFFFFFFFFFFFFFFFFFFFFFFFFFFFFFFFFFFFFFFFFFFFFFFFFFFFFFFFFFFFFFFFFFFFFFFFFFFFFFFFFFFFFFFFFFFFFFFFFFFFFFFFFFFFFFFFFFFFFFFFFFFFFFFFFFFFFFFFFFFFFFFFf/Z\"></img>"
      ]
     },
     "metadata": {},
     "output_type": "display_data"
    },
    {
     "data": {
      "text/plain": [
       "\u001b[36mres40\u001b[39m: (\u001b[32mInt\u001b[39m, \u001b[32mList\u001b[39m[\u001b[32mDouble\u001b[39m]) = (\n",
       "  \u001b[32m6\u001b[39m,\n",
       "  \u001b[33mList\u001b[39m(\u001b[32m719.0\u001b[39m, \u001b[32m987.0\u001b[39m, \u001b[32m823.0\u001b[39m, \u001b[32m543.0\u001b[39m, \u001b[32m2348.0\u001b[39m, \u001b[32m533.0\u001b[39m)\n",
       ")"
      ]
     },
     "execution_count": 41,
     "metadata": {},
     "output_type": "execute_result"
    }
   ],
   "source": [
    "program(DebugIPInterp).unsafeRunSync"
   ]
  },
  {
   "cell_type": "markdown",
   "metadata": {
    "slideshow": {
     "slide_type": "slide"
    }
   },
   "source": [
    "# Thank you\n",
    "\n",
    "So much more fun to be had!\n",
    "- Nesting Tagless Final Algebras\n",
    "- [Optimising](http://okmij.org/ftp/tagless-final/course/optimizations.html) [Tagless](https://typelevel.org/blog/2018/06/27/optimizing-tagless-final-2.html) [Final](https://typelevel.org/blog/2017/12/27/optimizing-final-tagless.html)\n",
    "- [Error handling with Tagless Final](https://typelevel.org/blog/2018/08/25/http4s-error-handling-mtl.html)\n",
    "- [Effect](http://degoes.net/articles/effects-without-transformers) [types](http://degoes.net/articles/polymorphic-bifunctors)\n",
    "- Interesting talks:\n",
    "    - [Building a Tagless Final DSL for WebGL](https://www.slideshare.net/LukaJacobowitz/building-a-tagless-final-dsl-for-webgl)\n",
    "    - [Advanced Tagless Final - Saying Farewell to Free](https://www.slideshare.net/LukaJacobowitz/advanced-tagless-final-saying-farewell-to-free)"
   ]
  }
 ],
 "metadata": {
  "celltoolbar": "Slideshow",
  "kernelspec": {
   "display_name": "Scala",
   "language": "scala",
   "name": "scala"
  },
  "language_info": {
   "codemirror_mode": "text/x-scala",
   "file_extension": ".scala",
   "mimetype": "text/x-scala",
   "name": "scala",
   "nbconvert_exporter": "script",
   "version": "2.12.7"
  }
 },
 "nbformat": 4,
 "nbformat_minor": 2
}
